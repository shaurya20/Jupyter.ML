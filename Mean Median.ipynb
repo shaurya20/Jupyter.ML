{
 "cells": [
  {
   "cell_type": "code",
   "execution_count": 1,
   "metadata": {},
   "outputs": [
    {
     "data": {
      "text/plain": [
       "2639.7093721709734"
      ]
     },
     "execution_count": 1,
     "metadata": {},
     "output_type": "execute_result"
    }
   ],
   "source": [
    "import numpy as np\n",
    "incomes=np.random.normal(2700,1500,1000)\n",
    "np.mean(incomes)\n"
   ]
  },
  {
   "cell_type": "code",
   "execution_count": 3,
   "metadata": {},
   "outputs": [
    {
     "data": {
      "text/plain": [
       "(array([ 3.,  0.,  0.,  1.,  0.,  1.,  0.,  3.,  5.,  6., 10., 11., 17.,\n",
       "        14., 19., 30., 24., 24., 29., 41., 41., 46., 45., 44., 58., 50.,\n",
       "        46., 61., 56., 52., 35., 29., 34., 35., 32., 19., 14., 11., 14.,\n",
       "         9., 11.,  3.,  6.,  2.,  3.,  1.,  0.,  3.,  1.,  1.]),\n",
       " array([-2205.87440526, -2015.39736398, -1824.9203227 , -1634.44328142,\n",
       "        -1443.96624013, -1253.48919885, -1063.01215757,  -872.53511629,\n",
       "         -682.058075  ,  -491.58103372,  -301.10399244,  -110.62695116,\n",
       "           79.85009013,   270.32713141,   460.80417269,   651.28121397,\n",
       "          841.75825525,  1032.23529654,  1222.71233782,  1413.1893791 ,\n",
       "         1603.66642038,  1794.14346167,  1984.62050295,  2175.09754423,\n",
       "         2365.57458551,  2556.0516268 ,  2746.52866808,  2937.00570936,\n",
       "         3127.48275064,  3317.95979193,  3508.43683321,  3698.91387449,\n",
       "         3889.39091577,  4079.86795705,  4270.34499834,  4460.82203962,\n",
       "         4651.2990809 ,  4841.77612218,  5032.25316347,  5222.73020475,\n",
       "         5413.20724603,  5603.68428731,  5794.1613286 ,  5984.63836988,\n",
       "         6175.11541116,  6365.59245244,  6556.06949373,  6746.54653501,\n",
       "         6937.02357629,  7127.50061757,  7317.97765886]),\n",
       " <a list of 50 Patch objects>)"
      ]
     },
     "execution_count": 3,
     "metadata": {},
     "output_type": "execute_result"
    }
   ],
   "source": [
    "import matplotlib.pyplot as plt\n",
    "plt.hist(incomes,50)"
   ]
  },
  {
   "cell_type": "code",
   "execution_count": 14,
   "metadata": {},
   "outputs": [],
   "source": [
    "plt.show()"
   ]
  },
  {
   "cell_type": "code",
   "execution_count": 6,
   "metadata": {},
   "outputs": [
    {
     "data": {
      "text/plain": [
       "2649.2295975460893"
      ]
     },
     "execution_count": 6,
     "metadata": {},
     "output_type": "execute_result"
    }
   ],
   "source": [
    "np.median(incomes)"
   ]
  },
  {
   "cell_type": "code",
   "execution_count": 11,
   "metadata": {},
   "outputs": [
    {
     "data": {
      "text/plain": [
       "array([2.55463746e+03, 3.24017259e+03, 2.01023179e+03, ...,\n",
       "       4.23235717e+03, 1.54364604e+02, 1.00000000e+10])"
      ]
     },
     "execution_count": 11,
     "metadata": {},
     "output_type": "execute_result"
    }
   ],
   "source": [
    "np.append(incomes,[10000000000])"
   ]
  },
  {
   "cell_type": "code",
   "execution_count": 12,
   "metadata": {},
   "outputs": [
    {
     "data": {
      "text/plain": [
       "2649.2295975460893"
      ]
     },
     "execution_count": 12,
     "metadata": {},
     "output_type": "execute_result"
    }
   ],
   "source": [
    "np.median(incomes)"
   ]
  },
  {
   "cell_type": "code",
   "execution_count": 13,
   "metadata": {},
   "outputs": [
    {
     "data": {
      "text/plain": [
       "2639.7093721709734"
      ]
     },
     "execution_count": 13,
     "metadata": {},
     "output_type": "execute_result"
    }
   ],
   "source": [
    "np.mean(incomes)"
   ]
  },
  {
   "cell_type": "code",
   "execution_count": 18,
   "metadata": {},
   "outputs": [],
   "source": [
    "x=np.random.random((3,4))"
   ]
  },
  {
   "cell_type": "code",
   "execution_count": 19,
   "metadata": {},
   "outputs": [
    {
     "name": "stdout",
     "output_type": "stream",
     "text": [
      "[[0.02200264 0.98714563 0.93457529 0.06964873]\n",
      " [0.44140575 0.68945664 0.46523879 0.55348019]\n",
      " [0.44089234 0.14412014 0.10519205 0.25511157]]\n"
     ]
    }
   ],
   "source": [
    "print (x)\n"
   ]
  },
  {
   "cell_type": "code",
   "execution_count": 21,
   "metadata": {},
   "outputs": [
    {
     "name": "stdout",
     "output_type": "stream",
     "text": [
      "adding 1 to every row \n"
     ]
    }
   ],
   "source": [
    "print (\"adding 1 to every row \")"
   ]
  },
  {
   "cell_type": "code",
   "execution_count": 22,
   "metadata": {},
   "outputs": [
    {
     "name": "stdout",
     "output_type": "stream",
     "text": [
      "[[1.02200264 1.98714563 1.93457529 1.06964873]\n",
      " [1.44140575 1.68945664 1.46523879 1.55348019]\n",
      " [1.44089234 1.14412014 1.10519205 1.25511157]]\n"
     ]
    }
   ],
   "source": [
    "x=x+1\n",
    "print(x)"
   ]
  },
  {
   "cell_type": "code",
   "execution_count": 23,
   "metadata": {},
   "outputs": [
    {
     "data": {
      "text/plain": [
       "1.4256891479987557"
      ]
     },
     "execution_count": 23,
     "metadata": {},
     "output_type": "execute_result"
    }
   ],
   "source": [
    "np.mean(x)"
   ]
  },
  {
   "cell_type": "code",
   "execution_count": 24,
   "metadata": {},
   "outputs": [
    {
     "data": {
      "text/plain": [
       "1.9871456319254996"
      ]
     },
     "execution_count": 24,
     "metadata": {},
     "output_type": "execute_result"
    }
   ],
   "source": [
    "np.max(x)"
   ]
  },
  {
   "cell_type": "code",
   "execution_count": 26,
   "metadata": {},
   "outputs": [
    {
     "data": {
      "text/plain": [
       "1.022002639146225"
      ]
     },
     "execution_count": 26,
     "metadata": {},
     "output_type": "execute_result"
    }
   ],
   "source": [
    "np.min(x)"
   ]
  },
  {
   "cell_type": "code",
   "execution_count": 29,
   "metadata": {},
   "outputs": [
    {
     "data": {
      "text/plain": [
       "([array([1., 0., 0., 0., 2., 0., 0., 0., 0., 0.]),\n",
       "  array([0., 1., 0., 0., 0., 0., 1., 0., 0., 1.]),\n",
       "  array([1., 0., 0., 0., 1., 0., 0., 0., 0., 1.]),\n",
       "  array([1., 0., 1., 0., 0., 1., 0., 0., 0., 0.])],\n",
       " array([1.02200264, 1.11851694, 1.21503124, 1.31154554, 1.40805984,\n",
       "        1.50457414, 1.60108843, 1.69760273, 1.79411703, 1.89063133,\n",
       "        1.98714563]),\n",
       " <a list of 4 Lists of Patches objects>)"
      ]
     },
     "execution_count": 29,
     "metadata": {},
     "output_type": "execute_result"
    },
    {
     "data": {
      "image/png": "[encoded data removed]",
      "text/plain": [
       "<Figure size 432x288 with 1 Axes>"
      ]
     },
     "metadata": {},
     "output_type": "display_data"
    }
   ],
   "source": [
    "plt.hist(x)"
   ]
  },
  {
   "cell_type": "code",
   "execution_count": null,
   "metadata": {},
   "outputs": [],
   "source": []
  }
 ],
 "metadata": {
  "kernelspec": {
   "display_name": "Python 3",
   "language": "python",
   "name": "python3"
  },
  "language_info": {
   "codemirror_mode": {
    "name": "ipython",
    "version": 3
   },
   "file_extension": ".py",
   "mimetype": "text/x-python",
   "name": "python",
   "nbconvert_exporter": "python",
   "pygments_lexer": "ipython3",
   "version": "3.6.4"
  }
 },
 "nbformat": 4,
 "nbformat_minor": 2
}
